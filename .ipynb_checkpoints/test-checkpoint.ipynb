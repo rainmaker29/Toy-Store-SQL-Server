{
 "cells": [
  {
   "cell_type": "code",
   "execution_count": 43,
   "metadata": {},
   "outputs": [],
   "source": [
    "import pyodbc\n",
    "import pandas as pd\n",
    "conn = pyodbc.connect('Driver={/opt/microsoft/msodbcsql17/lib64/libmsodbcsql-17.6.so.1.1};'\n",
    "                      'Server=localhost;'\n",
    "                      'Database=Products;'\n",
    "                      'UID=SA;'\n",
    "                      'PWD=Bismillah@1996')\n",
    "\n",
    "cursor = conn.cursor()\n",
    "\n",
    "df = pd.read_csv(\"products.csv\")\n",
    "\n",
    "\n",
    "products = cursor.execute(\"SELECT TOP 12 ids from PRODS3;\").fetchall()\n",
    "\n",
    "# cursor.close()"
   ]
  },
  {
   "cell_type": "code",
   "execution_count": 44,
   "metadata": {},
   "outputs": [],
   "source": [
    "def name(idx):\n",
    "    return df.loc[df[\"ids\"]==idx,\"name\"].to_list()[0]"
   ]
  },
  {
   "cell_type": "code",
   "execution_count": 82,
   "metadata": {},
   "outputs": [],
   "source": [
    "names = cursor.execute(\"SELECT ids,names from PRODS;\").fetchall()"
   ]
  },
  {
   "cell_type": "code",
   "execution_count": 84,
   "metadata": {},
   "outputs": [
    {
     "name": "stdout",
     "output_type": "stream",
     "text": [
      "('eac7efa5dbd3d667f26eb3d3ab504464', 'Hornby 2014 Catalogue')\n"
     ]
    }
   ],
   "source": [
    "for x in names:\n",
    "    print(x)\n",
    "    break"
   ]
  },
  {
   "cell_type": "code",
   "execution_count": 70,
   "metadata": {},
   "outputs": [
    {
     "data": {
      "text/plain": [
       "'Mehano - Coffret TGV duplex 3.5 m'"
      ]
     },
     "execution_count": 70,
     "metadata": {},
     "output_type": "execute_result"
    }
   ],
   "source": [
    "df.iloc[10][\"name\"]"
   ]
  },
  {
   "cell_type": "code",
   "execution_count": 76,
   "metadata": {},
   "outputs": [],
   "source": [
    "df[\"names\"] = df[\"name\"]"
   ]
  },
  {
   "cell_type": "code",
   "execution_count": 77,
   "metadata": {},
   "outputs": [],
   "source": [
    "df.to_csv(\"products.csv\",index=False)"
   ]
  },
  {
   "cell_type": "code",
   "execution_count": 95,
   "metadata": {},
   "outputs": [
    {
     "data": {
      "text/plain": [
       "'eac7efa5dbd3d667f26eb3d3ab504464'"
      ]
     },
     "execution_count": 95,
     "metadata": {},
     "output_type": "execute_result"
    }
   ],
   "source": [
    "idx=df.iloc[0][\"ids\"]\n",
    "idx"
   ]
  },
  {
   "cell_type": "code",
   "execution_count": 111,
   "metadata": {},
   "outputs": [
    {
     "data": {
      "text/plain": [
       "'Hornby 2014 Catalogue'"
      ]
     },
     "execution_count": 111,
     "metadata": {},
     "output_type": "execute_result"
    }
   ],
   "source": [
    "# Select name from table when id is given\n",
    "\n",
    "cursor.execute(\"SELECT names FROM PRODS where ids = ?\", idx).fetchall()[0][0]\n",
    "# cursor.execute(f\"SELECT * FROM PRODS WHERE ids={idx};\")"
   ]
  },
  {
   "cell_type": "code",
   "execution_count": 115,
   "metadata": {},
   "outputs": [],
   "source": [
    "manu = df.iloc[0][\"manufacturer\"]"
   ]
  },
  {
   "cell_type": "code",
   "execution_count": 117,
   "metadata": {},
   "outputs": [
    {
     "data": {
      "text/plain": [
       "0      eac7efa5dbd3d667f26eb3d3ab504464\n",
       "2      87bbb472ef9d90dcef140a551665c929\n",
       "3      7e2aa2b4596a39ba852449718413d7cc\n",
       "4      93a2c5173f17b896dc614ffbac0c2f2c\n",
       "6      fe0b2ec319cde46d25c34eda5bdc6089\n",
       "9      de3a9b8508d72623ded8cb07dc30331e\n",
       "275    c860ae6ec107e72c2b10da68e5c3a371\n",
       "276    f8dec54d7f301352132faadc8a169048\n",
       "280    02162144a863eba0766549dbd0e3b5fa\n",
       "Name: ids, dtype: object"
      ]
     },
     "execution_count": 117,
     "metadata": {},
     "output_type": "execute_result"
    }
   ],
   "source": [
    "df.loc[df[\"manufacturer\"]==manu,\"ids\"]"
   ]
  },
  {
   "cell_type": "code",
   "execution_count": 120,
   "metadata": {},
   "outputs": [
    {
     "data": {
      "text/plain": [
       "[('eac7efa5dbd3d667f26eb3d3ab504464', ),\n",
       " ('87bbb472ef9d90dcef140a551665c929', ),\n",
       " ('7e2aa2b4596a39ba852449718413d7cc', ),\n",
       " ('93a2c5173f17b896dc614ffbac0c2f2c', ),\n",
       " ('fe0b2ec319cde46d25c34eda5bdc6089', ),\n",
       " ('de3a9b8508d72623ded8cb07dc30331e', ),\n",
       " ('c860ae6ec107e72c2b10da68e5c3a371', ),\n",
       " ('f8dec54d7f301352132faadc8a169048', ),\n",
       " ('02162144a863eba0766549dbd0e3b5fa', )]"
      ]
     },
     "execution_count": 120,
     "metadata": {},
     "output_type": "execute_result"
    }
   ],
   "source": [
    "manus = cursor.execute(\"SELECT ids FROM PRODS where manufacturer = ?\", manu).fetchall()\n",
    "manus"
   ]
  },
  {
   "cell_type": "code",
   "execution_count": 121,
   "metadata": {},
   "outputs": [
    {
     "name": "stdout",
     "output_type": "stream",
     "text": [
      "eac7efa5dbd3d667f26eb3d3ab504464\n",
      "87bbb472ef9d90dcef140a551665c929\n",
      "7e2aa2b4596a39ba852449718413d7cc\n",
      "93a2c5173f17b896dc614ffbac0c2f2c\n",
      "fe0b2ec319cde46d25c34eda5bdc6089\n",
      "de3a9b8508d72623ded8cb07dc30331e\n",
      "c860ae6ec107e72c2b10da68e5c3a371\n",
      "f8dec54d7f301352132faadc8a169048\n",
      "02162144a863eba0766549dbd0e3b5fa\n"
     ]
    }
   ],
   "source": [
    "for prod_id in manus:\n",
    "    print(prod_id[0])"
   ]
  },
  {
   "cell_type": "code",
   "execution_count": 128,
   "metadata": {},
   "outputs": [
    {
     "data": {
      "text/plain": [
       "{'manufacturer': 'Hornby',\n",
       " 'price': 3.42,\n",
       " 'number_available_in_stock': 5.0,\n",
       " 'number_of_reviews': 15.0,\n",
       " 'number_of_answered_questions': 1.0,\n",
       " 'average_review_rating': 4.9,\n",
       " 'customers_who_bought_this_item_also_bought': 'Hornby-R8150-Catalogue-2015',\n",
       " 'items_customers_buy_after_viewing_this_item': 'Hornby-R8150-Catalogue-2015',\n",
       " 'sellers': 'Amazon.co.uk',\n",
       " 'used_or_unused': 'new',\n",
       " 'category': 'Hobbies ',\n",
       " 'sub_category': ' Model Trains & Railway Sets ',\n",
       " 'names': 'Hornby 2014 Catalogue',\n",
       " 'ids': 'eac7efa5dbd3d667f26eb3d3ab504464'}"
      ]
     },
     "execution_count": 128,
     "metadata": {},
     "output_type": "execute_result"
    }
   ],
   "source": [
    "# Get all\n",
    "idx=df.iloc[0][\"ids\"]\n",
    "columns = [column[0] for column in cursor.description]\n",
    "res = cursor.execute(\"SELECT * FROM PRODS WHERE ids = ?\",idx).fetchall()\n",
    "\n",
    "for row in res:\n",
    "    res_dict = dict(zip(columns, row))\n",
    "\n",
    "res_dict"
   ]
  },
  {
   "cell_type": "code",
   "execution_count": 132,
   "metadata": {},
   "outputs": [
    {
     "data": {
      "text/plain": [
       "'eac7efa5dbd3d667f26eb3d3ab504464'"
      ]
     },
     "execution_count": 132,
     "metadata": {},
     "output_type": "execute_result"
    }
   ],
   "source": [
    "idx = df.iloc[0][\"names\"]\n",
    "cursor.execute(\"SELECT ids FROM PRODS WHERE names=?\",idx).fetchall()[0][0]"
   ]
  },
  {
   "cell_type": "code",
   "execution_count": 148,
   "metadata": {},
   "outputs": [],
   "source": [
    "def get_all(id):\n",
    "    columns = [column[0] for column in cursor.description]\n",
    "    res = cursor.execute(\"SELECT * FROM PRODS WHERE ids = ?\",id).fetchall()\n",
    "    result=[]\n",
    "    for row in res:\n",
    "        result.append(dict(zip(columns, row)))\n",
    "    \n",
    "    return result[0]\n"
   ]
  },
  {
   "cell_type": "code",
   "execution_count": 147,
   "metadata": {},
   "outputs": [
    {
     "data": {
      "text/plain": [
       "{'manufacturer': 'Hornby',\n",
       " 'price': 3.42,\n",
       " 'number_available_in_stock': 5.0,\n",
       " 'number_of_reviews': 15.0,\n",
       " 'number_of_answered_questions': 1.0,\n",
       " 'average_review_rating': 4.9,\n",
       " 'customers_who_bought_this_item_also_bought': 'Hornby-R8150-Catalogue-2015',\n",
       " 'items_customers_buy_after_viewing_this_item': 'Hornby-R8150-Catalogue-2015',\n",
       " 'sellers': 'Amazon.co.uk',\n",
       " 'used_or_unused': 'new',\n",
       " 'category': 'Hobbies ',\n",
       " 'sub_category': ' Model Trains & Railway Sets ',\n",
       " 'names': 'Hornby 2014 Catalogue',\n",
       " 'ids': 'eac7efa5dbd3d667f26eb3d3ab504464'}"
      ]
     },
     "execution_count": 147,
     "metadata": {},
     "output_type": "execute_result"
    }
   ],
   "source": [
    "get_all(idx)"
   ]
  },
  {
   "cell_type": "code",
   "execution_count": 178,
   "metadata": {},
   "outputs": [],
   "source": [
    "idx = \"7e2aa2b4596a39ba852449718413d7cc\"\n",
    "columns = [column[0] for column in cursor.description]\n",
    "res = cursor.execute(\"SELECT * FROM PRODS WHERE ids = ?\",idx).fetchall()\n",
    "result=[]\n",
    "for row in res:\n",
    "    result.append(dict(zip(columns, row)))\n",
    "\n",
    "# 7e2aa2b4596a39ba852449718413d7cc"
   ]
  },
  {
   "cell_type": "code",
   "execution_count": 183,
   "metadata": {},
   "outputs": [
    {
     "data": {
      "text/plain": [
       "'Hornby Gauge Western Express Digital Train Set with eLink and TTS Loco Train Set'"
      ]
     },
     "execution_count": 183,
     "metadata": {},
     "output_type": "execute_result"
    }
   ],
   "source": [
    "result[0][\"names\"]"
   ]
  },
  {
   "cell_type": "code",
   "execution_count": 188,
   "metadata": {},
   "outputs": [
    {
     "data": {
      "text/plain": [
       "Int64Index([3], dtype='int64')"
      ]
     },
     "execution_count": 188,
     "metadata": {},
     "output_type": "execute_result"
    }
   ],
   "source": [
    "df.loc[df[\"names\"]==result[0][\"names\"],:].index"
   ]
  },
  {
   "cell_type": "code",
   "execution_count": 159,
   "metadata": {},
   "outputs": [],
   "source": [
    "def get_all(idx):\n",
    "    \n",
    "    columns = [column[0] for column in cursor.description]\n",
    "    res = cursor.execute(\"SELECT * FROM PRODS WHERE ids = ?\",idx).fetchall()\n",
    "    \n",
    "    result=[]\n",
    "    for row in res:\n",
    "        result.append(dict(zip(columns, row)))\n",
    "    \n",
    "    return result[0]\n",
    "\n"
   ]
  },
  {
   "cell_type": "code",
   "execution_count": 163,
   "metadata": {},
   "outputs": [
    {
     "data": {
      "text/plain": [
       "'Hornby Gauge Western Express Digital Train Set with eLink and TTS Loco Train Set'"
      ]
     },
     "execution_count": 163,
     "metadata": {},
     "output_type": "execute_result"
    }
   ],
   "source": [
    "get_all(\"7e2aa2b4596a39ba852449718413d7cc\")[\"names\"]"
   ]
  },
  {
   "cell_type": "code",
   "execution_count": 164,
   "metadata": {},
   "outputs": [],
   "source": [
    "res = cursor.execute(\"SELECT * FROM PRODS WHERE ids = ?\",idx).fetchall()\n",
    "    "
   ]
  },
  {
   "cell_type": "code",
   "execution_count": 168,
   "metadata": {},
   "outputs": [
    {
     "data": {
      "text/plain": [
       "('Hornby', 235.58, 4.0, 1.0, 1.0, 5.0, 'Hornby-Western-Master-E-Link-Electric', 'Hornby-Western-Master-E-Link-Electric', 'Amazon.co.uk', 'new', 'Hobbies ', ' Model Trains & Railway Sets ', 'Hornby Gauge Western Express Digital Train Set with eLink and TTS Loco Train Set', '7e2aa2b4596a39ba852449718413d7cc')"
      ]
     },
     "execution_count": 168,
     "metadata": {},
     "output_type": "execute_result"
    }
   ],
   "source": [
    "res[0]"
   ]
  },
  {
   "cell_type": "code",
   "execution_count": 172,
   "metadata": {},
   "outputs": [],
   "source": [
    "columns = [column[0] for column in cursor.description]"
   ]
  },
  {
   "cell_type": "code",
   "execution_count": 173,
   "metadata": {},
   "outputs": [
    {
     "data": {
      "text/plain": [
       "['manufacturer',\n",
       " 'price',\n",
       " 'number_available_in_stock',\n",
       " 'number_of_reviews',\n",
       " 'number_of_answered_questions',\n",
       " 'average_review_rating',\n",
       " 'customers_who_bought_this_item_also_bought',\n",
       " 'items_customers_buy_after_viewing_this_item',\n",
       " 'sellers',\n",
       " 'used_or_unused',\n",
       " 'category',\n",
       " 'sub_category',\n",
       " 'names',\n",
       " 'ids']"
      ]
     },
     "execution_count": 173,
     "metadata": {},
     "output_type": "execute_result"
    }
   ],
   "source": [
    "columns"
   ]
  },
  {
   "cell_type": "code",
   "execution_count": 175,
   "metadata": {},
   "outputs": [
    {
     "data": {
      "text/plain": [
       "Int64Index([3], dtype='int64')"
      ]
     },
     "execution_count": 175,
     "metadata": {},
     "output_type": "execute_result"
    }
   ],
   "source": [
    "df.loc[df[\"names\"]==res[0][-2],:].index"
   ]
  },
  {
   "cell_type": "code",
   "execution_count": null,
   "metadata": {},
   "outputs": [],
   "source": []
  }
 ],
 "metadata": {
  "kernelspec": {
   "display_name": "Python 3",
   "language": "python",
   "name": "python3"
  },
  "language_info": {
   "codemirror_mode": {
    "name": "ipython",
    "version": 3
   },
   "file_extension": ".py",
   "mimetype": "text/x-python",
   "name": "python",
   "nbconvert_exporter": "python",
   "pygments_lexer": "ipython3",
   "version": "3.6.9"
  }
 },
 "nbformat": 4,
 "nbformat_minor": 4
}
